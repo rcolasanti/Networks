{
 "cells": [
  {
   "cell_type": "code",
   "execution_count": 3,
   "metadata": {},
   "outputs": [
    {
     "name": "stdout",
     "output_type": "stream",
     "text": [
      "Network Properties for:\t\tG#15\n",
      "nodes, edges\t\t\t4100000, 12346246\n",
      "directed?\t\t\tFalse\n",
      "weighted?\t\t\tFalse\n",
      "isolated nodes\t\t\t72606\n",
      "self-loops\t\t\t0\n",
      "density\t\t\t\t0.000001\n",
      "clustering coefficient\t\t0.718872\n",
      "min/max/avg degree\t\t0, 9472, 6.022559\n",
      "degree assortativity\t\t-0.000287\n",
      "number of connected components\t166416\n",
      "size of largest component\t2742010 (66.88 %)\n"
     ]
    }
   ],
   "source": [
    "from networkit import *\n",
    "g = generators.HyperbolicGenerator(4.1e6).generate()\n",
    "overview(g)"
   ]
  },
  {
   "cell_type": "code",
   "execution_count": null,
   "metadata": {},
   "outputs": [],
   "source": []
  }
 ],
 "metadata": {
  "kernelspec": {
   "display_name": "Python 3",
   "language": "python",
   "name": "python3"
  },
  "language_info": {
   "codemirror_mode": {
    "name": "ipython",
    "version": 3
   },
   "file_extension": ".py",
   "mimetype": "text/x-python",
   "name": "python",
   "nbconvert_exporter": "python",
   "pygments_lexer": "ipython3",
   "version": "3.6.5"
  }
 },
 "nbformat": 4,
 "nbformat_minor": 2
}
